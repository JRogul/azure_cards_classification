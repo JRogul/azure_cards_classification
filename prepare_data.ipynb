{
 "cells": [
  {
   "cell_type": "code",
   "execution_count": 2,
   "id": "25ddf0b8",
   "metadata": {},
   "outputs": [
    {
     "name": "stdout",
     "output_type": "stream",
     "text": [
      "Azure ML SDK Version:  1.51.0\n"
     ]
    }
   ],
   "source": [
    "import os\n",
    "\n",
    "from azureml.core import  Environment\n",
    "from azureml.data.data_reference import DataReference\n",
    "from azure.ai.ml.constants import AssetTypes, InputOutputModes\n",
    "from azure.identity import DefaultAzureCredential, InteractiveBrowserCredential\n",
    "from azure.ai.ml import MLClient\n",
    "from azureml.core import Workspace, Dataset"
   ]
  },
  {
   "cell_type": "code",
   "execution_count": 4,
   "id": "a6db09f1",
   "metadata": {},
   "outputs": [
    {
     "name": "stdout",
     "output_type": "stream",
     "text": [
      "<azure.identity._credentials.default.DefaultAzureCredential object at 0x7f4da5673d30>\n"
     ]
    }
   ],
   "source": [
    "try:\n",
    "    credential = DefaultAzureCredential()\n",
    "    credential.get_token(\"https://management.azure.com/.default\")\n",
    "    print(credential)\n",
    "except Exception as ex:\n",
    "    credential = InteractiveBrowserCredential()"
   ]
  },
  {
   "cell_type": "code",
   "execution_count": 5,
   "id": "a7d6c3ca",
   "metadata": {},
   "outputs": [
    {
     "name": "stderr",
     "output_type": "stream",
     "text": [
      "Found the config file in: /config.json\n"
     ]
    }
   ],
   "source": [
    "ml_client = MLClient.from_config(credential=credential)"
   ]
  },
  {
   "cell_type": "code",
   "execution_count": 6,
   "id": "0d753042",
   "metadata": {},
   "outputs": [],
   "source": [
    "ws = Workspace.from_config()"
   ]
  },
  {
   "cell_type": "code",
   "execution_count": null,
   "id": "5df751d3",
   "metadata": {},
   "outputs": [],
   "source": [
    "datastore = ws.get_default_datastore()"
   ]
  },
  {
   "cell_type": "markdown",
   "id": "1f1057c7",
   "metadata": {},
   "source": [
    "### Create enviroment"
   ]
  },
  {
   "cell_type": "code",
   "execution_count": null,
   "id": "2cbe16dd",
   "metadata": {},
   "outputs": [],
   "source": [
    "env = Environment.from_pip_requirements(name='local-env', file_path='requirements.txt')\n",
    "\n",
    "# Register the environment\n",
    "env.register(workspace=ws)"
   ]
  },
  {
   "cell_type": "markdown",
   "id": "f00d4bda",
   "metadata": {},
   "source": [
    "### Load data from datastore and register it as dataset"
   ]
  },
  {
   "cell_type": "code",
   "execution_count": 31,
   "id": "22562699",
   "metadata": {},
   "outputs": [],
   "source": [
    "data_reference = DataReference(datastore, path_on_datastore='UI/2024-05-25_135438_UTC/archive.zip')\n",
    "dataset = Dataset.File.from_files(path=data_reference)\n",
    "dataset.register(ws, name='image_cards_dataset', create_new_version=True)"
   ]
  },
  {
   "cell_type": "markdown",
   "id": "11f09de3",
   "metadata": {},
   "source": [
    "### Load dataset"
   ]
  },
  {
   "cell_type": "code",
   "execution_count": 36,
   "id": "7e6d8a6d",
   "metadata": {},
   "outputs": [],
   "source": [
    "dataset = Dataset.get_by_name(ws, 'image_cards_dataset')\n",
    "local_path = dataset.download(target_path='./data', overwrite=True)"
   ]
  },
  {
   "cell_type": "code",
   "execution_count": 9,
   "id": "80a15429",
   "metadata": {},
   "outputs": [],
   "source": [
    "extract_path = os.path.join('data', 'prepared_data')"
   ]
  },
  {
   "cell_type": "markdown",
   "id": "c5ebf20e",
   "metadata": {},
   "source": [
    "### Unzip data"
   ]
  },
  {
   "cell_type": "code",
   "execution_count": 39,
   "id": "163a3f56",
   "metadata": {},
   "outputs": [
    {
     "name": "stdout",
     "output_type": "stream",
     "text": [
      "Files extracted to: data/prepared_data\n"
     ]
    }
   ],
   "source": [
    "import zipfile\n",
    "\n",
    "\n",
    "# Unzip the file\n",
    "with zipfile.ZipFile(local_path[0], 'r') as zip_ref:\n",
    "    zip_ref.extractall(extract_path)\n",
    "\n",
    "print(f'Files extracted to: {extract_path}')"
   ]
  },
  {
   "cell_type": "markdown",
   "id": "f3f2db1f",
   "metadata": {},
   "source": [
    "### Creating data asset from unzipped images"
   ]
  },
  {
   "cell_type": "code",
   "execution_count": 21,
   "id": "560bb3a5",
   "metadata": {},
   "outputs": [],
   "source": [
    "from azure.ai.ml.entities import Data\n",
    "\n",
    "my_data = Data(\n",
    "    path='./dataaa/prepared_data',  \n",
    "    type=AssetTypes.URI_FOLDER,     \n",
    "    description=\"Prepared cards data\",\n",
    "    name=\"prepared_cards_images_dataset\",\n",
    "    version=\"1\",\n",
    ")\n",
    "# Create the data asset in the workspace\n",
    "ml_client.data.create_or_update(my_data)"
   ]
  },
  {
   "cell_type": "code",
   "execution_count": null,
   "id": "1f14469b",
   "metadata": {},
   "outputs": [],
   "source": [
    "data_asset_name = \"prepared_cards_images_dataset\"\n",
    "data_asset_version = \"1\"\n",
    "\n",
    "data_asset = ml_client.data.get(name=data_asset_name, version=data_asset_version)"
   ]
  }
 ],
 "metadata": {
  "kernelspec": {
   "display_name": "Python 3.8 - AzureML",
   "language": "python",
   "name": "python38-azureml"
  },
  "language_info": {
   "codemirror_mode": {
    "name": "ipython",
    "version": 3
   },
   "file_extension": ".py",
   "mimetype": "text/x-python",
   "name": "python",
   "nbconvert_exporter": "python",
   "pygments_lexer": "ipython3",
   "version": "3.8.5"
  }
 },
 "nbformat": 4,
 "nbformat_minor": 5
}
